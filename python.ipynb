Welcome to python world


welcoming python to data science world














Exit python
